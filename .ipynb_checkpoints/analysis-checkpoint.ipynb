{
 "cells": [
  {
   "cell_type": "code",
   "execution_count": 1,
   "metadata": {},
   "outputs": [],
   "source": [
    "# encoding: utf-8\n",
    "\n",
    "import requests\n",
    "import argparse\n",
    "from os import listdir\n",
    "from os.path import isfile, join\n",
    "\n",
    "URL = 'http://127.0.0.1:5000/predict'"
   ]
  },
  {
   "cell_type": "markdown",
   "metadata": {},
   "source": [
    "## Predict result"
   ]
  },
  {
   "cell_type": "code",
   "execution_count": 2,
   "metadata": {},
   "outputs": [],
   "source": [
    "def predict_result(image_path):\n",
    "    # Initialize image path\n",
    "    image = open(image_path, 'rb').read()\n",
    "    payload = {'image': image}\n",
    "    output_string=''\n",
    "    r = requests.post(URL, files=payload).json()\n",
    "\n",
    "    # Ensure the request was successful.\n",
    "    if r['success']:\n",
    "        # Loop over the predictions and display them.\n",
    "        #print(image_path,end =\"\\t\")\n",
    "        output_string=output_string+image_path +'\\t'\n",
    "        \n",
    "        for (i, result) in enumerate(r['predictions']):\n",
    "            #print(' {}: {:.4f}'.format(result['label'],result['probability']),end =\"\\t\")\n",
    "            output_string=output_string+'{}'.format(result['label'])+'\\t' +'{:.4f}'.format(result['probability'])+'\\t'\n",
    "    \n",
    "        \n",
    "        #print(output_string)\n",
    "    # Otherwise, the request failed.\n",
    "    else:\n",
    "        print('Request failed')\n",
    "    \n",
    "    return output_string\n",
    "\n"
   ]
  },
  {
   "cell_type": "markdown",
   "metadata": {},
   "source": [
    "## processing"
   ]
  },
  {
   "cell_type": "code",
   "execution_count": 5,
   "metadata": {},
   "outputs": [
    {
     "name": "stdout",
     "output_type": "stream",
     "text": [
      "['4599815420_8ee42c2382.jpg', '6931708704_fccb06fea8.jpg']\n",
      "this file is processed\n",
      "4599815420_8ee42c2382.jpg\n",
      "this file is processed\n",
      "6931708704_fccb06fea8.jpg\n",
      "../dataset/4599815420_8ee42c2382.jpg\tErica cinerea\t0.2645\tDichelostemma capitatum\t0.1145\tKoelreuteria paniculata\t0.1123\tDicentra formosa\t0.0752\tSpathoglottis plicata\t0.0408\tTanacetum vulgare\t0.0362\t\n",
      "../dataset/6931708704_fccb06fea8.jpg\tSpathoglottis plicata\t0.2795\tCollinsia heterophylla\t0.0549\tSophora prostrata\t0.0433\tRatibida columnifera\t0.0260\tIris germanica\t0.0246\tBryophyllum delagoense\t0.0205\t\n",
      "\n"
     ]
    }
   ],
   "source": [
    "mypath='../datasets/'\n",
    "    \n",
    "onlyfiles = [f for f in listdir(mypath) if isfile(join(mypath, f))]\n",
    "print(onlyfiles)\n",
    "    \n",
    "output_all=''\n",
    "for x in onlyfiles:\n",
    "    print('this file is processed')\n",
    "    print(x)\n",
    "    string = predict_result(mypath+x)\n",
    "    #string=''\n",
    "    output_all=output_all+string+ '\\n'\n",
    "    \n",
    "print(output_all)\n",
    "\n",
    "text_file = open(\"Output.txt\", \"w\")\n",
    "text_file.write(output_all)\n",
    "text_file.close()"
   ]
  },
  {
   "cell_type": "markdown",
   "metadata": {},
   "source": [
    "## analysis of results"
   ]
  },
  {
   "cell_type": "code",
   "execution_count": null,
   "metadata": {},
   "outputs": [],
   "source": []
  }
 ],
 "metadata": {
  "kernelspec": {
   "display_name": "Python 3",
   "language": "python",
   "name": "python3"
  },
  "language_info": {
   "codemirror_mode": {
    "name": "ipython",
    "version": 3
   },
   "file_extension": ".py",
   "mimetype": "text/x-python",
   "name": "python",
   "nbconvert_exporter": "python",
   "pygments_lexer": "ipython3",
   "version": "3.7.7"
  }
 },
 "nbformat": 4,
 "nbformat_minor": 4
}
