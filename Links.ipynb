{
 "cells": [
  {
   "cell_type": "markdown",
   "metadata": {},
   "source": [
    "\n",
    "look at:\n",
    "https://www.kaggle.com/dimitreoliveira/flower-classification-with-tpus-eda-and-baseline/data?\n",
    "\n",
    "https://www.kaggle.com/gpreda/iwildcam-2019-eda-and-prediction\n",
    "\n"
   ]
  },
  {
   "cell_type": "markdown",
   "metadata": {},
   "source": [
    "[1] https://www.kaggle.com/gpreda/honey-bee-subspecies-classification   \n",
    "[2] https://www.kaggle.com/gpreda/robots-need-help  \n",
    "[3] https://www.kaggle.com/artgor/iwildcam-basic-eda  \n",
    "[4] https://www.kaggle.com/c/iwildcam-2019-fgvc6/  \n",
    "[5] https://www.kaggle.com/xhlulu/keras-cnn-starter-petfinder/  \n",
    "[6] https://www.kaggle.com/xhlulu/reducing-image-sizes-to-32x32  \n",
    "[7] https://medium.com/@thongonary/how-to-compute-f1-score-for-each-epoch-in-keras-a1acd17715a2  \n",
    "[8] https://www.kaggle.com/xhlulu/cnn-baseline-iwildcam-2019  \n",
    "[9] https://www.kaggle.com/xhlulu/densenet-transfer-learning-iwildcam-2019/  \n",
    "[10] https://www.kaggle.com/gpreda/cats-or-dogs-using-cnn-with-transfer-learning\n"
   ]
  },
  {
   "cell_type": "code",
   "execution_count": null,
   "metadata": {},
   "outputs": [],
   "source": []
  }
 ],
 "metadata": {
  "kernelspec": {
   "display_name": "Python 3",
   "language": "python",
   "name": "python3"
  },
  "language_info": {
   "codemirror_mode": {
    "name": "ipython",
    "version": 3
   },
   "file_extension": ".py",
   "mimetype": "text/x-python",
   "name": "python",
   "nbconvert_exporter": "python",
   "pygments_lexer": "ipython3",
   "version": "3.7.6"
  }
 },
 "nbformat": 4,
 "nbformat_minor": 4
}
